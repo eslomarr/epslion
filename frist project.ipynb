{
 "cells": [
  {
   "cell_type": "code",
   "execution_count": 1,
   "metadata": {},
   "outputs": [],
   "source": [
    "import random"
   ]
  },
  {
   "cell_type": "code",
   "execution_count": 16,
   "metadata": {},
   "outputs": [],
   "source": [
    "from random import randint"
   ]
  },
  {
   "cell_type": "code",
   "execution_count": 1,
   "metadata": {},
   "outputs": [
    {
     "name": "stdout",
     "output_type": "stream",
     "text": [
      "paper\n",
      "rock\n",
      "user is winner\n"
     ]
    }
   ],
   "source": [
    "import random\n",
    "game=[\"rock\",\"paper\",\"scissor\"]\n",
    "user=str(input())\n",
    "computer=random.choice(game)\n",
    "print(computer)\n",
    "if user==\"paper\" and computer==\"rock\":\n",
    "    print(\"user is winner\")\n",
    "elif user==\"rock\" and computer==\"scissor\":\n",
    "    print(\"user is winner\")\n",
    "elif user==\"scissor\" and computer==\"paper\":\n",
    "    print(\"user is winner\")\n",
    "elif user==computer:\n",
    "    print(\"draw\")\n",
    "else:\n",
    "    print(\"computer is winner\")"
   ]
  },
  {
   "cell_type": "code",
   "execution_count": 6,
   "metadata": {},
   "outputs": [],
   "source": [
    "#hangman project"
   ]
  },
  {
   "cell_type": "code",
   "execution_count": null,
   "metadata": {},
   "outputs": [],
   "source": []
  }
 ],
 "metadata": {
  "kernelspec": {
   "display_name": "Python 3",
   "language": "python",
   "name": "python3"
  },
  "language_info": {
   "codemirror_mode": {
    "name": "ipython",
    "version": 3
   },
   "file_extension": ".py",
   "mimetype": "text/x-python",
   "name": "python",
   "nbconvert_exporter": "python",
   "pygments_lexer": "ipython3",
   "version": "3.7.6"
  }
 },
 "nbformat": 4,
 "nbformat_minor": 4
}
